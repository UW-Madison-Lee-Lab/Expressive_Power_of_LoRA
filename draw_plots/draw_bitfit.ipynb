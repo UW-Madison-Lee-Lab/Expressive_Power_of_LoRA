{
 "cells": [
  {
   "cell_type": "code",
   "execution_count": 1,
   "id": "7d70ad09",
   "metadata": {},
   "outputs": [],
   "source": [
    "import pandas as pd\n",
    "import matplotlib.pyplot as plt\n",
    "import matplotlib\n",
    "import matplotlib as mpl\n",
    "import numpy as np"
   ]
  },
  {
   "cell_type": "code",
   "execution_count": 2,
   "id": "27696595",
   "metadata": {},
   "outputs": [],
   "source": [
    "df = pd.read_pickle('../results/results.pkl')"
   ]
  },
  {
   "cell_type": "code",
   "execution_count": 7,
   "id": "ef92ac1a",
   "metadata": {},
   "outputs": [],
   "source": [
    "def get_rows(\n",
    "    args_dict,\n",
    "):\n",
    "    idx = {}\n",
    "    for key, value in args_dict.items():\n",
    "        if value is None:\n",
    "            idx[key] = np.ones_like(df[key], dtype=bool)\n",
    "        else:\n",
    "            idx[key] = df[key] == value\n",
    "        \n",
    "    run_idx = np.ones_like(df['test_loss'], dtype=bool)\n",
    "    for key, value in idx.items():\n",
    "        run_idx = run_idx & value\n",
    "    \n",
    "    # print(f\"Selected {run_idx.sum()} runs!\")\n",
    "    \n",
    "    run_df = df[run_idx].reset_index(drop=True)   \n",
    "    return run_df\n",
    "\n",
    "def get_loss(\n",
    "    args_dict,\n",
    "):\n",
    "    run_df = get_rows(args_dict)\n",
    "\n",
    "    rank_set = np.unique(run_df['rank'])\n",
    "    seed_set = np.unique(run_df['seed'])\n",
    "    test_loss, test_loss_mean, test_loss_std = {}, {}, {}\n",
    "    \n",
    "    for tune_bias in [0,1]:\n",
    "        test_loss_mean[tune_bias], test_loss_std[tune_bias], test_loss[tune_bias] = {}, {}, {}\n",
    "        group_df = run_df[run_df['tune_bias'] == tune_bias].reset_index(drop=True)        \n",
    "        for rank in rank_set:\n",
    "            rank_df = group_df[group_df['rank'] == rank].reset_index(drop=True)\n",
    "            test_loss[tune_bias][rank], test_loss_mean[tune_bias][rank], test_loss_std[tune_bias][rank] = {}, {}, {}\n",
    "            for seed in seed_set:\n",
    "                seed_df = rank_df[rank_df['seed'] == seed].reset_index(drop=True)        \n",
    "                min_loss_index = seed_df['val_loss'].idxmin()\n",
    "                row_with_min_loss = seed_df.loc[min_loss_index]\n",
    "                test_loss[tune_bias][rank][seed] = row_with_min_loss['test_loss']\n",
    "\n",
    "        \n",
    "            test_loss_mean[tune_bias][rank] = pd.Series(test_loss[tune_bias][rank]).median()\n",
    "            test_loss_std[tune_bias][rank] = pd.Series(test_loss[tune_bias][rank]).std()\n",
    "    return pd.DataFrame(test_loss_mean)"
   ]
  },
  {
   "cell_type": "markdown",
   "id": "e50308d7",
   "metadata": {},
   "source": [
    "## FNN Approximation"
   ]
  },
  {
   "cell_type": "code",
   "execution_count": 8,
   "id": "58d965b9",
   "metadata": {},
   "outputs": [],
   "source": [
    "activation = 'relu'\n",
    "width = 16\n",
    "exp = 'fnn'\n",
    "init_mode = 'default'\n",
    "target_depth = 1\n",
    "frozen_depth = 2\n",
    "fnn_results = {}\n",
    "\n",
    "for pretrained in [0,1]:\n",
    "    fnn_results[pretrained] = get_loss({\n",
    "    'activation': activation,\n",
    "    'target_depth': target_depth,\n",
    "    'frozen_depth': frozen_depth,\n",
    "    'init_mode': init_mode,\n",
    "    'width': width,\n",
    "    'exp': exp,\n",
    "    'pretrained': pretrained\n",
    "})\n",
    "    "
   ]
  },
  {
   "cell_type": "code",
   "execution_count": 9,
   "id": "ac308f17",
   "metadata": {},
   "outputs": [
    {
     "data": {
      "image/png": "[encoded data removed]",
      "text/plain": [
       "<Figure size 504x252 with 2 Axes>"
      ]
     },
     "metadata": {
      "needs_background": "light"
     },
     "output_type": "display_data"
    }
   ],
   "source": [
    "plt.rc('font', family='serif', serif='times new roman')\n",
    "plt.rc('text', usetex=True)\n",
    "plt.rc('xtick', labelsize=22)\n",
    "plt.rc('ytick', labelsize=22)\n",
    "mpl.rcParams['patch.linewidth']=0.5 #width of the boundary of legend\n",
    "\n",
    "\n",
    "sgd_marker, sgd_color, sgd_lt, sgd_ms = 's', '#118AB2', '--', 6\n",
    "our_marker, our_color, our_lt, our_ms = 'o', '#DD3497', '-', 5\n",
    "lw = 2.5\n",
    "\n",
    "fig, ax = plt.subplots(nrows=1, ncols=2, sharey = True)\n",
    "fig.subplots_adjust(left=0.16, bottom=.24, right=0.98, top=0.9, wspace=0.05, hspace = 0.3) #margin of the figure\n",
    "fig.set_size_inches(7, 3.5) #exact size of the figure\n",
    "\n",
    "for pretrained in [0,1]:\n",
    "    fnn_results[pretrained][0].plot(ax = ax[pretrained], color = sgd_color, label = 'Fixed Biases', linestyle = sgd_lt, marker = sgd_marker, linewidth = lw, markersize = sgd_ms)\n",
    "    fnn_results[pretrained][1].plot(ax = ax[pretrained], color = our_color, label = 'Updatable Biases', linestyle = our_lt, marker = our_marker, linewidth = lw, markersize = our_ms)\n",
    "    ax[pretrained].grid(True)\n",
    "\n",
    "ax[0].set_title('Random', size = 22, y = 1.01)\n",
    "ax[1].set_title('Pretrained', size = 22, y = 1.01)\n",
    "\n",
    "# ax[0].set_ylim(0,0.15)\n",
    "ax[1].legend(fontsize=18, bbox_to_anchor=(1.02,1.01))\n",
    "fig.supxlabel('\\# Tunable Parameters', fontsize = 26)\n",
    "fig.supylabel('MSE', fontsize = 26)\n",
    "    \n",
    "plt.savefig('../figures/lora_bitfit_approx.pdf')\n",
    "# Show the plot\n",
    "plt.show()\n"
   ]
  },
  {
   "cell_type": "code",
   "execution_count": null,
   "id": "0c24ea77",
   "metadata": {},
   "outputs": [],
   "source": []
  }
 ],
 "metadata": {
  "kernelspec": {
   "display_name": "Python 3 (ipykernel)",
   "language": "python",
   "name": "python3"
  },
  "language_info": {
   "codemirror_mode": {
    "name": "ipython",
    "version": 3
   },
   "file_extension": ".py",
   "mimetype": "text/x-python",
   "name": "python",
   "nbconvert_exporter": "python",
   "pygments_lexer": "ipython3",
   "version": "3.8.13"
  }
 },
 "nbformat": 4,
 "nbformat_minor": 5
}
