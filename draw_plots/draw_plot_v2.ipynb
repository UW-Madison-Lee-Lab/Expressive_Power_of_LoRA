{
 "cells": [
  {
   "cell_type": "code",
   "execution_count": 1,
   "id": "32b59d35",
   "metadata": {},
   "outputs": [],
   "source": [
    "import pandas as pd\n",
    "import matplotlib.pyplot as plt\n",
    "import matplotlib\n",
    "import matplotlib as mpl\n",
    "import numpy as np"
   ]
  },
  {
   "cell_type": "code",
   "execution_count": 2,
   "id": "9e29f9c1",
   "metadata": {},
   "outputs": [],
   "source": [
    "df = pd.read_pickle('../results/results.pkl')"
   ]
  },
  {
   "cell_type": "code",
   "execution_count": 3,
   "id": "befc6f74",
   "metadata": {},
   "outputs": [],
   "source": [
    "def get_rows(\n",
    "    args_dict,\n",
    "):\n",
    "    idx = {}\n",
    "    for key, value in args_dict.items():\n",
    "        if value is None:\n",
    "            idx[key] = np.ones_like(df[key], dtype=bool)\n",
    "        else:\n",
    "            idx[key] = df[key] == value\n",
    "        \n",
    "    run_idx = np.ones_like(df['test_loss'], dtype=bool)\n",
    "    for key, value in idx.items():\n",
    "        run_idx = run_idx & value\n",
    "    \n",
    "    # print(f\"Selected {run_idx.sum()} runs!\")\n",
    "    \n",
    "    run_df = df[run_idx].reset_index(drop=True)   \n",
    "    return run_df"
   ]
  },
  {
   "cell_type": "code",
   "execution_count": 9,
   "id": "c719699e",
   "metadata": {},
   "outputs": [],
   "source": [
    "def get_loss(\n",
    "    args_dict,\n",
    "):\n",
    "    run_df = get_rows(args_dict)\n",
    "\n",
    "    rank_set = np.unique(run_df['rank'])\n",
    "    seed_set = np.unique(run_df['seed'])\n",
    "    test_loss, test_loss_mean, test_loss_std = {}, {}, {}\n",
    "    \n",
    "    for method in ['sgd', 'ours']:\n",
    "        test_loss_mean[method], test_loss_std[method], test_loss[method] = {}, {}, {}\n",
    "        group_df = run_df[run_df['method'] == method].reset_index(drop=True)        \n",
    "        for rank in rank_set:\n",
    "            rank_df = group_df[group_df['rank'] == rank].reset_index(drop=True)\n",
    "            test_loss[method][rank], test_loss_mean[method][rank], test_loss_std[method][rank] = {}, {}, {}\n",
    "            for seed in seed_set:\n",
    "                seed_df = rank_df[rank_df['seed'] == seed].reset_index(drop=True)        \n",
    "                if method == 'sgd':\n",
    "                    min_loss_index = seed_df['val_loss'].idxmin()\n",
    "                    row_with_min_loss = seed_df.loc[min_loss_index]\n",
    "                    test_loss[method][rank][seed] = row_with_min_loss['test_loss']\n",
    "\n",
    "                elif method == 'ours':\n",
    "                    test_loss[method][rank][seed] = seed_df['test_loss'].iloc[0]\n",
    "                else:\n",
    "                    raise notImplementError(f\"We only support sgd and ours, not {method}!\")\n",
    "        \n",
    "            test_loss_mean[method][rank] = pd.Series(test_loss[method][rank]).median()\n",
    "            test_loss_std[method][rank] = pd.Series(test_loss[method][rank]).std()\n",
    "    return pd.DataFrame(test_loss_mean), pd.DataFrame(test_loss_std)"
   ]
  },
  {
   "cell_type": "code",
   "execution_count": 16,
   "id": "02ef95a5",
   "metadata": {},
   "outputs": [],
   "source": [
    "# loading the data\n",
    "\n",
    "random_linear = get_loss({\n",
    "    'activation': 'linear',\n",
    "    'use_bias': 0,\n",
    "    'target_depth': 1,\n",
    "    'frozen_depth': 2,\n",
    "    'init_mode': 'default',\n",
    "    'width': 16,\n",
    "    'exp': 'fnn',\n",
    "    'pretrained': 0,\n",
    "    'rank_step': 0,\n",
    "})\n",
    "\n",
    "random_fnn = get_loss({\n",
    "    'activation': 'relu',\n",
    "    'use_bias': 1,\n",
    "    'target_depth': 2,\n",
    "    'frozen_depth': 4,\n",
    "    'init_mode': 'default',\n",
    "    'width': 16,\n",
    "    'exp': 'fnn',\n",
    "    'pretrained': 0,\n",
    "    'tune_bias': 1,\n",
    "    'rank_step': 0,\n",
    "})\n",
    "\n",
    "pretrained_linear = get_loss({\n",
    "    'activation': 'linear',\n",
    "    'use_bias': 0,\n",
    "    'target_depth': 1,\n",
    "    'frozen_depth': 2,\n",
    "    'init_mode': 'default',\n",
    "    'width': 16,\n",
    "    'exp': 'fnn',\n",
    "    'pretrained': 1,\n",
    "    'rank_step': 0,\n",
    "})\n",
    "\n",
    "pretrained_fnn = get_loss({\n",
    "    'activation': 'relu',\n",
    "    'use_bias': 1,\n",
    "    'target_depth': 2,\n",
    "    'frozen_depth': 4,\n",
    "    'init_mode': 'default',\n",
    "    'width': 16,\n",
    "    'exp': 'fnn',\n",
    "    'pretrained': 1,\n",
    "    'tune_bias': 1,\n",
    "    'rank_step': 0,\n",
    "})"
   ]
  },
  {
   "cell_type": "code",
   "execution_count": 17,
   "id": "1d7271bd",
   "metadata": {},
   "outputs": [
    {
     "data": {
      "image/png": "[encoded data removed]",
      "text/plain": [
       "<Figure size 489.6x216 with 2 Axes>"
      ]
     },
     "metadata": {
      "needs_background": "light"
     },
     "output_type": "display_data"
    }
   ],
   "source": [
    "# Figure 1 setup\n",
    "plt.rc('font', family='serif', serif='times new roman')\n",
    "plt.rc('text', usetex=True)\n",
    "plt.rc('xtick', labelsize=22)\n",
    "plt.rc('ytick', labelsize=22)\n",
    "mpl.rcParams['patch.linewidth']=0.5 #width of the boundary of legend\n",
    "\n",
    "rank_set = list(random_fnn[0].index)\n",
    "sgd_marker, sgd_color, sgd_lt, sgd_ms = 's', '#118AB2', '--', 6\n",
    "our_marker, our_color, our_lt, our_ms = 'o', '#DD3497', '-', 5\n",
    "lw = 2.5\n",
    "\n",
    "fig, ax = plt.subplots(nrows=1, ncols=2, sharex=True, sharey = True)\n",
    "fig.subplots_adjust(left=0.15, bottom=.23, right=0.99, top=0.88, wspace=0.05, hspace=0.05)\n",
    "fig.set_size_inches(6.8, 3)\n",
    "\n",
    "random_linear[0]['sgd'].plot(ax=ax[0], color=sgd_color, label='Gradient Update', linestyle=sgd_lt, marker=sgd_marker, linewidth=lw, markersize=sgd_ms)\n",
    "random_linear[0]['ours'].plot(ax=ax[0], color=our_color, label='Our Construction', linestyle=our_lt, marker=our_marker, linewidth=lw, markersize=our_ms)\n",
    "\n",
    "pretrained_linear[0]['sgd'].plot(ax=ax[1], color=sgd_color, label='Gradient Update', linestyle=sgd_lt, marker=sgd_marker, linewidth=lw, markersize=sgd_ms)\n",
    "pretrained_linear[0]['ours'].plot(ax=ax[1], color=our_color, label='Our Construction', linestyle=our_lt, marker=our_marker, linewidth=lw, markersize=our_ms)\n",
    "\n",
    "# ax[0].fill_between(rank_set, random_linear[0]['sgd'] - random_linear[1]['sgd'], random_linear[0]['sgd'] + random_linear[1]['sgd'], color=sgd_color, alpha=0.5)\n",
    "# ax[0].fill_between(rank_set, random_linear[0]['ours'] - random_linear[1]['ours'], random_linear[0]['ours'] + random_linear[1]['ours'], color=our_color, alpha=0.5)\n",
    "# ax[1].fill_between(rank_set, pretrained_linear[0]['sgd'] - pretrained_linear[1]['sgd'], pretrained_linear[0]['sgd'] + pretrained_linear[1]['sgd'], color=sgd_color, alpha=0.5)\n",
    "# ax[1].fill_between(rank_set, pretrained_linear[0]['ours'] - pretrained_linear[1]['ours'], pretrained_linear[0]['ours'] + pretrained_linear[1]['ours'], color=our_color, alpha=0.5)\n",
    "\n",
    "# set the x-ticks\n",
    "\n",
    "for i in range(2):\n",
    "    ax[i].set_xticks([4, 8, 12, 16])\n",
    "    ax[i].grid(True)\n",
    "\n",
    "ax[1].legend(fontsize=15, bbox_to_anchor=(1.02,1))\n",
    "ax[0].set_title('Random', size = 22, y = 1.01)\n",
    "ax[1].set_title('Pretrained', size = 22, y = 1.01)\n",
    "\n",
    "fig.supxlabel('Rank', fontsize = 26)\n",
    "fig.supylabel('MSE', fontsize = 26)\n",
    "\n",
    "\n",
    "plt.savefig('../figures/figure1.pdf')\n",
    "plt.show()"
   ]
  },
  {
   "cell_type": "code",
   "execution_count": 14,
   "id": "b42812c5",
   "metadata": {},
   "outputs": [
    {
     "data": {
      "image/png": "[encoded data removed]",
      "text/plain": [
       "<Figure size 489.6x216 with 2 Axes>"
      ]
     },
     "metadata": {
      "needs_background": "light"
     },
     "output_type": "display_data"
    }
   ],
   "source": [
    "# Figure 2 setup\n",
    "fig, ax = plt.subplots(nrows=1, ncols=2, sharex=True, sharey = True)\n",
    "fig.subplots_adjust(left=0.15, bottom=.23, right=0.99, top=0.88, wspace=0.05, hspace=0.05)\n",
    "fig.set_size_inches(6.8, 3)\n",
    "\n",
    "random_fnn[0]['sgd'].plot(ax=ax[0], color=sgd_color, label='Gradient Update', linestyle=sgd_lt, marker=sgd_marker, linewidth=lw, markersize=sgd_ms)\n",
    "random_fnn[0]['ours'].plot(ax=ax[0], color=our_color, label='Our Construction', linestyle=our_lt, marker=our_marker, linewidth=lw, markersize=our_ms)\n",
    "\n",
    "pretrained_fnn[0]['sgd'].plot(ax=ax[1], color=sgd_color, label='Gradient Update', linestyle=sgd_lt, marker=sgd_marker, linewidth=lw, markersize=sgd_ms)\n",
    "pretrained_fnn[0]['ours'].plot(ax=ax[1], color=our_color, label='Our Construction', linestyle=our_lt, marker=our_marker, linewidth=lw, markersize=our_ms)\n",
    "\n",
    "# ax[0].fill_between(rank_set, random_fnn[0]['sgd'] - random_fnn[1]['sgd'], random_fnn[0]['sgd'] + random_fnn[1]['sgd'], color=sgd_color, alpha=0.5)\n",
    "# ax[0].fill_between(rank_set, random_fnn[0]['ours'] - random_fnn[1]['ours'], random_fnn[0]['ours'] + random_fnn[1]['ours'], color=our_color, alpha=0.5)\n",
    "# ax[1].fill_between(rank_set, pretrained_fnn[0]['sgd'] - pretrained_fnn[1]['sgd'], pretrained_fnn[0]['sgd'] + pretrained_fnn[1]['sgd'], color=sgd_color, alpha=0.5)\n",
    "# ax[1].fill_between(rank_set, pretrained_fnn[0]['ours'] - pretrained_fnn[1]['ours'], pretrained_fnn[0]['ours'] + pretrained_fnn[1]['ours'], color=our_color, alpha=0.5)\n",
    "\n",
    "# set the x-ticks\n",
    "\n",
    "for i in range(2):\n",
    "    ax[i].set_xticks([4, 8, 12, 16])\n",
    "    ax[i].grid(True)\n",
    "\n",
    "ax[1].legend(fontsize=15, bbox_to_anchor=(0.1,1))\n",
    "ax[0].set_title('Random', size = 22, y = 1.01)\n",
    "ax[1].set_title('Pretrained', size = 22, y = 1.01)\n",
    "\n",
    "fig.supxlabel('Rank', fontsize = 26)\n",
    "fig.supylabel('MSE', fontsize = 26)\n",
    "\n",
    "\n",
    "plt.savefig('../figures/figure2.pdf')\n",
    "plt.show()"
   ]
  },
  {
   "cell_type": "code",
   "execution_count": null,
   "id": "45f1b245",
   "metadata": {},
   "outputs": [],
   "source": []
  }
 ],
 "metadata": {
  "kernelspec": {
   "display_name": "Python 3 (ipykernel)",
   "language": "python",
   "name": "python3"
  },
  "language_info": {
   "codemirror_mode": {
    "name": "ipython",
    "version": 3
   },
   "file_extension": ".py",
   "mimetype": "text/x-python",
   "name": "python",
   "nbconvert_exporter": "python",
   "pygments_lexer": "ipython3",
   "version": "3.8.13"
  }
 },
 "nbformat": 4,
 "nbformat_minor": 5
}
