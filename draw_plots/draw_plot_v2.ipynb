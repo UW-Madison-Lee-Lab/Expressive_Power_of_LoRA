{
 "cells": [
  {
   "cell_type": "code",
   "execution_count": 1,
   "id": "32b59d35",
   "metadata": {},
   "outputs": [],
   "source": [
    "import pandas as pd\n",
    "import matplotlib.pyplot as plt\n",
    "import matplotlib\n",
    "import matplotlib as mpl\n",
    "import numpy as np"
   ]
  },
  {
   "cell_type": "code",
   "execution_count": 2,
   "id": "9e29f9c1",
   "metadata": {},
   "outputs": [],
   "source": [
    "df = pd.read_pickle('../results/results.pkl')"
   ]
  },
  {
   "cell_type": "code",
   "execution_count": 3,
   "id": "befc6f74",
   "metadata": {},
   "outputs": [],
   "source": [
    "def get_rows(\n",
    "    args_dict,\n",
    "):\n",
    "    idx = {}\n",
    "    for key, value in args_dict.items():\n",
    "        if value is None:\n",
    "            idx[key] = np.ones_like(df[key], dtype=bool)\n",
    "        else:\n",
    "            idx[key] = df[key] == value\n",
    "        \n",
    "    run_idx = np.ones_like(df['test_loss'], dtype=bool)\n",
    "    for key, value in idx.items():\n",
    "        run_idx = run_idx & value\n",
    "    \n",
    "    # print(f\"Selected {run_idx.sum()} runs!\")\n",
    "    \n",
    "    run_df = df[run_idx].reset_index(drop=True)   \n",
    "    return run_df"
   ]
  },
  {
   "cell_type": "code",
   "execution_count": 6,
   "id": "c719699e",
   "metadata": {},
   "outputs": [],
   "source": [
    "def get_loss(\n",
    "    args_dict,\n",
    "):\n",
    "    run_df = get_rows(args_dict)\n",
    "\n",
    "    test_loss = {}\n",
    "    rank_set = np.unique(run_df['rank'])\n",
    "    seed_set = np.unique(run_df['seed'])\n",
    "    \n",
    "    for method in ['sgd', 'ours']:\n",
    "        group_df = run_df[run_df['method'] == method].reset_index(drop=True)        \n",
    "        test_loss[method] = {}\n",
    "        for rank in rank_set:\n",
    "            rank_df = group_df[group_df['rank'] == rank].reset_index(drop=True)\n",
    "            test_loss[method][rank] = {}\n",
    "            for seed in seed_set:\n",
    "                seed_df = rank_df[rank_df['seed'] == seed].reset_index(drop=True)        \n",
    "                if method == 'sgd':\n",
    "                    min_loss_index = seed_df['val_loss'].idxmin()\n",
    "                    row_with_min_loss = seed_df.loc[min_loss_index]\n",
    "                    test_loss[method][rank][seed] = row_with_min_loss['test_loss']\n",
    "                elif method == 'ours':\n",
    "                    test_loss[method][rank][seed] = seed_df['test_loss'].iloc[0]\n",
    "                else:\n",
    "                    raise notImplementError(f\"We only support sgd and ours, not {method}!\")\n",
    "                    \n",
    "    return {\n",
    "        'test_loss': pd.DataFrame(test_loss), \n",
    "    }"
   ]
  },
  {
   "cell_type": "code",
   "execution_count": 7,
   "id": "02ef95a5",
   "metadata": {},
   "outputs": [
    {
     "ename": "IndexError",
     "evalue": "single positional indexer is out-of-bounds",
     "output_type": "error",
     "traceback": [
      "\u001b[0;31m---------------------------------------------------------------------------\u001b[0m",
      "\u001b[0;31mIndexError\u001b[0m                                Traceback (most recent call last)",
      "\u001b[1;32m/skunk-pod-storage-yzeng58-40wisc-2eedu-pvc/lora/draw_plots/draw_plot_v2.ipynb Cell 5\u001b[0m line \u001b[0;36m<cell line: 15>\u001b[0;34m()\u001b[0m\n\u001b[1;32m      <a href='vscode-notebook-cell://ssh-remote%2B7b22686f73744e616d65223a2249424d2d536b756e642d506f64227d/skunk-pod-storage-yzeng58-40wisc-2eedu-pvc/lora/draw_plots/draw_plot_v2.ipynb#X11sdnNjb2RlLXJlbW90ZQ%3D%3D?line=0'>1</a>\u001b[0m \u001b[39m# loading the data\u001b[39;00m\n\u001b[1;32m      <a href='vscode-notebook-cell://ssh-remote%2B7b22686f73744e616d65223a2249424d2d536b756e642d506f64227d/skunk-pod-storage-yzeng58-40wisc-2eedu-pvc/lora/draw_plots/draw_plot_v2.ipynb#X11sdnNjb2RlLXJlbW90ZQ%3D%3D?line=2'>3</a>\u001b[0m random_linear \u001b[39m=\u001b[39m get_loss({\n\u001b[1;32m      <a href='vscode-notebook-cell://ssh-remote%2B7b22686f73744e616d65223a2249424d2d536b756e642d506f64227d/skunk-pod-storage-yzeng58-40wisc-2eedu-pvc/lora/draw_plots/draw_plot_v2.ipynb#X11sdnNjb2RlLXJlbW90ZQ%3D%3D?line=3'>4</a>\u001b[0m     \u001b[39m'\u001b[39m\u001b[39mactivation\u001b[39m\u001b[39m'\u001b[39m: \u001b[39m'\u001b[39m\u001b[39mlinear\u001b[39m\u001b[39m'\u001b[39m,\n\u001b[1;32m      <a href='vscode-notebook-cell://ssh-remote%2B7b22686f73744e616d65223a2249424d2d536b756e642d506f64227d/skunk-pod-storage-yzeng58-40wisc-2eedu-pvc/lora/draw_plots/draw_plot_v2.ipynb#X11sdnNjb2RlLXJlbW90ZQ%3D%3D?line=4'>5</a>\u001b[0m     \u001b[39m'\u001b[39m\u001b[39muse_bias\u001b[39m\u001b[39m'\u001b[39m: \u001b[39m0\u001b[39m,\n\u001b[0;32m   (...)\u001b[0m\n\u001b[1;32m     <a href='vscode-notebook-cell://ssh-remote%2B7b22686f73744e616d65223a2249424d2d536b756e642d506f64227d/skunk-pod-storage-yzeng58-40wisc-2eedu-pvc/lora/draw_plots/draw_plot_v2.ipynb#X11sdnNjb2RlLXJlbW90ZQ%3D%3D?line=11'>12</a>\u001b[0m     \u001b[39m'\u001b[39m\u001b[39mtune_bias\u001b[39m\u001b[39m'\u001b[39m: \u001b[39m1\u001b[39m,\n\u001b[1;32m     <a href='vscode-notebook-cell://ssh-remote%2B7b22686f73744e616d65223a2249424d2d536b756e642d506f64227d/skunk-pod-storage-yzeng58-40wisc-2eedu-pvc/lora/draw_plots/draw_plot_v2.ipynb#X11sdnNjb2RlLXJlbW90ZQ%3D%3D?line=12'>13</a>\u001b[0m })[\u001b[39m'\u001b[39m\u001b[39mtest_loss\u001b[39m\u001b[39m'\u001b[39m]\n\u001b[0;32m---> <a href='vscode-notebook-cell://ssh-remote%2B7b22686f73744e616d65223a2249424d2d536b756e642d506f64227d/skunk-pod-storage-yzeng58-40wisc-2eedu-pvc/lora/draw_plots/draw_plot_v2.ipynb#X11sdnNjb2RlLXJlbW90ZQ%3D%3D?line=14'>15</a>\u001b[0m random_fnn \u001b[39m=\u001b[39m get_loss({\n\u001b[1;32m     <a href='vscode-notebook-cell://ssh-remote%2B7b22686f73744e616d65223a2249424d2d536b756e642d506f64227d/skunk-pod-storage-yzeng58-40wisc-2eedu-pvc/lora/draw_plots/draw_plot_v2.ipynb#X11sdnNjb2RlLXJlbW90ZQ%3D%3D?line=15'>16</a>\u001b[0m     \u001b[39m'\u001b[39;49m\u001b[39mactivation\u001b[39;49m\u001b[39m'\u001b[39;49m: \u001b[39m'\u001b[39;49m\u001b[39mrelu\u001b[39;49m\u001b[39m'\u001b[39;49m,\n\u001b[1;32m     <a href='vscode-notebook-cell://ssh-remote%2B7b22686f73744e616d65223a2249424d2d536b756e642d506f64227d/skunk-pod-storage-yzeng58-40wisc-2eedu-pvc/lora/draw_plots/draw_plot_v2.ipynb#X11sdnNjb2RlLXJlbW90ZQ%3D%3D?line=16'>17</a>\u001b[0m     \u001b[39m'\u001b[39;49m\u001b[39muse_bias\u001b[39;49m\u001b[39m'\u001b[39;49m: \u001b[39m1\u001b[39;49m,\n\u001b[1;32m     <a href='vscode-notebook-cell://ssh-remote%2B7b22686f73744e616d65223a2249424d2d536b756e642d506f64227d/skunk-pod-storage-yzeng58-40wisc-2eedu-pvc/lora/draw_plots/draw_plot_v2.ipynb#X11sdnNjb2RlLXJlbW90ZQ%3D%3D?line=17'>18</a>\u001b[0m     \u001b[39m'\u001b[39;49m\u001b[39mtarget_depth\u001b[39;49m\u001b[39m'\u001b[39;49m: \u001b[39m2\u001b[39;49m,\n\u001b[1;32m     <a href='vscode-notebook-cell://ssh-remote%2B7b22686f73744e616d65223a2249424d2d536b756e642d506f64227d/skunk-pod-storage-yzeng58-40wisc-2eedu-pvc/lora/draw_plots/draw_plot_v2.ipynb#X11sdnNjb2RlLXJlbW90ZQ%3D%3D?line=18'>19</a>\u001b[0m     \u001b[39m'\u001b[39;49m\u001b[39mfrozen_depth\u001b[39;49m\u001b[39m'\u001b[39;49m: \u001b[39m4\u001b[39;49m,\n\u001b[1;32m     <a href='vscode-notebook-cell://ssh-remote%2B7b22686f73744e616d65223a2249424d2d536b756e642d506f64227d/skunk-pod-storage-yzeng58-40wisc-2eedu-pvc/lora/draw_plots/draw_plot_v2.ipynb#X11sdnNjb2RlLXJlbW90ZQ%3D%3D?line=19'>20</a>\u001b[0m     \u001b[39m'\u001b[39;49m\u001b[39minit_mode\u001b[39;49m\u001b[39m'\u001b[39;49m: \u001b[39m'\u001b[39;49m\u001b[39mdefault\u001b[39;49m\u001b[39m'\u001b[39;49m,\n\u001b[1;32m     <a href='vscode-notebook-cell://ssh-remote%2B7b22686f73744e616d65223a2249424d2d536b756e642d506f64227d/skunk-pod-storage-yzeng58-40wisc-2eedu-pvc/lora/draw_plots/draw_plot_v2.ipynb#X11sdnNjb2RlLXJlbW90ZQ%3D%3D?line=20'>21</a>\u001b[0m     \u001b[39m'\u001b[39;49m\u001b[39mwidth\u001b[39;49m\u001b[39m'\u001b[39;49m: \u001b[39m16\u001b[39;49m,\n\u001b[1;32m     <a href='vscode-notebook-cell://ssh-remote%2B7b22686f73744e616d65223a2249424d2d536b756e642d506f64227d/skunk-pod-storage-yzeng58-40wisc-2eedu-pvc/lora/draw_plots/draw_plot_v2.ipynb#X11sdnNjb2RlLXJlbW90ZQ%3D%3D?line=21'>22</a>\u001b[0m     \u001b[39m'\u001b[39;49m\u001b[39mexp\u001b[39;49m\u001b[39m'\u001b[39;49m: \u001b[39m'\u001b[39;49m\u001b[39mfnn\u001b[39;49m\u001b[39m'\u001b[39;49m,\n\u001b[1;32m     <a href='vscode-notebook-cell://ssh-remote%2B7b22686f73744e616d65223a2249424d2d536b756e642d506f64227d/skunk-pod-storage-yzeng58-40wisc-2eedu-pvc/lora/draw_plots/draw_plot_v2.ipynb#X11sdnNjb2RlLXJlbW90ZQ%3D%3D?line=22'>23</a>\u001b[0m     \u001b[39m'\u001b[39;49m\u001b[39mpretrained\u001b[39;49m\u001b[39m'\u001b[39;49m: \u001b[39m0\u001b[39;49m,\n\u001b[1;32m     <a href='vscode-notebook-cell://ssh-remote%2B7b22686f73744e616d65223a2249424d2d536b756e642d506f64227d/skunk-pod-storage-yzeng58-40wisc-2eedu-pvc/lora/draw_plots/draw_plot_v2.ipynb#X11sdnNjb2RlLXJlbW90ZQ%3D%3D?line=23'>24</a>\u001b[0m     \u001b[39m'\u001b[39;49m\u001b[39mtune_bias\u001b[39;49m\u001b[39m'\u001b[39;49m: \u001b[39m1\u001b[39;49m,\n\u001b[1;32m     <a href='vscode-notebook-cell://ssh-remote%2B7b22686f73744e616d65223a2249424d2d536b756e642d506f64227d/skunk-pod-storage-yzeng58-40wisc-2eedu-pvc/lora/draw_plots/draw_plot_v2.ipynb#X11sdnNjb2RlLXJlbW90ZQ%3D%3D?line=24'>25</a>\u001b[0m })[\u001b[39m'\u001b[39m\u001b[39mtest_loss\u001b[39m\u001b[39m'\u001b[39m]\n\u001b[1;32m     <a href='vscode-notebook-cell://ssh-remote%2B7b22686f73744e616d65223a2249424d2d536b756e642d506f64227d/skunk-pod-storage-yzeng58-40wisc-2eedu-pvc/lora/draw_plots/draw_plot_v2.ipynb#X11sdnNjb2RlLXJlbW90ZQ%3D%3D?line=26'>27</a>\u001b[0m pretrained_linear \u001b[39m=\u001b[39m get_loss({\n\u001b[1;32m     <a href='vscode-notebook-cell://ssh-remote%2B7b22686f73744e616d65223a2249424d2d536b756e642d506f64227d/skunk-pod-storage-yzeng58-40wisc-2eedu-pvc/lora/draw_plots/draw_plot_v2.ipynb#X11sdnNjb2RlLXJlbW90ZQ%3D%3D?line=27'>28</a>\u001b[0m     \u001b[39m'\u001b[39m\u001b[39mactivation\u001b[39m\u001b[39m'\u001b[39m: \u001b[39m'\u001b[39m\u001b[39mlinear\u001b[39m\u001b[39m'\u001b[39m,\n\u001b[1;32m     <a href='vscode-notebook-cell://ssh-remote%2B7b22686f73744e616d65223a2249424d2d536b756e642d506f64227d/skunk-pod-storage-yzeng58-40wisc-2eedu-pvc/lora/draw_plots/draw_plot_v2.ipynb#X11sdnNjb2RlLXJlbW90ZQ%3D%3D?line=28'>29</a>\u001b[0m     \u001b[39m'\u001b[39m\u001b[39muse_bias\u001b[39m\u001b[39m'\u001b[39m: \u001b[39m0\u001b[39m,\n\u001b[0;32m   (...)\u001b[0m\n\u001b[1;32m     <a href='vscode-notebook-cell://ssh-remote%2B7b22686f73744e616d65223a2249424d2d536b756e642d506f64227d/skunk-pod-storage-yzeng58-40wisc-2eedu-pvc/lora/draw_plots/draw_plot_v2.ipynb#X11sdnNjb2RlLXJlbW90ZQ%3D%3D?line=34'>35</a>\u001b[0m     \u001b[39m'\u001b[39m\u001b[39mpretrained\u001b[39m\u001b[39m'\u001b[39m: \u001b[39m1\u001b[39m,\n\u001b[1;32m     <a href='vscode-notebook-cell://ssh-remote%2B7b22686f73744e616d65223a2249424d2d536b756e642d506f64227d/skunk-pod-storage-yzeng58-40wisc-2eedu-pvc/lora/draw_plots/draw_plot_v2.ipynb#X11sdnNjb2RlLXJlbW90ZQ%3D%3D?line=35'>36</a>\u001b[0m })[\u001b[39m'\u001b[39m\u001b[39mtest_loss\u001b[39m\u001b[39m'\u001b[39m]\n\u001b[1;32m     <a href='vscode-notebook-cell://ssh-remote%2B7b22686f73744e616d65223a2249424d2d536b756e642d506f64227d/skunk-pod-storage-yzeng58-40wisc-2eedu-pvc/lora/draw_plots/draw_plot_v2.ipynb#X11sdnNjb2RlLXJlbW90ZQ%3D%3D?line=37'>38</a>\u001b[0m pretrained_fnn \u001b[39m=\u001b[39m get_loss({\n\u001b[1;32m     <a href='vscode-notebook-cell://ssh-remote%2B7b22686f73744e616d65223a2249424d2d536b756e642d506f64227d/skunk-pod-storage-yzeng58-40wisc-2eedu-pvc/lora/draw_plots/draw_plot_v2.ipynb#X11sdnNjb2RlLXJlbW90ZQ%3D%3D?line=38'>39</a>\u001b[0m     \u001b[39m'\u001b[39m\u001b[39mactivation\u001b[39m\u001b[39m'\u001b[39m: \u001b[39m'\u001b[39m\u001b[39mrelu\u001b[39m\u001b[39m'\u001b[39m,\n\u001b[1;32m     <a href='vscode-notebook-cell://ssh-remote%2B7b22686f73744e616d65223a2249424d2d536b756e642d506f64227d/skunk-pod-storage-yzeng58-40wisc-2eedu-pvc/lora/draw_plots/draw_plot_v2.ipynb#X11sdnNjb2RlLXJlbW90ZQ%3D%3D?line=39'>40</a>\u001b[0m     \u001b[39m'\u001b[39m\u001b[39muse_bias\u001b[39m\u001b[39m'\u001b[39m: \u001b[39m1\u001b[39m,\n\u001b[0;32m   (...)\u001b[0m\n\u001b[1;32m     <a href='vscode-notebook-cell://ssh-remote%2B7b22686f73744e616d65223a2249424d2d536b756e642d506f64227d/skunk-pod-storage-yzeng58-40wisc-2eedu-pvc/lora/draw_plots/draw_plot_v2.ipynb#X11sdnNjb2RlLXJlbW90ZQ%3D%3D?line=45'>46</a>\u001b[0m     \u001b[39m'\u001b[39m\u001b[39mpretrained\u001b[39m\u001b[39m'\u001b[39m: \u001b[39m1\u001b[39m,\n\u001b[1;32m     <a href='vscode-notebook-cell://ssh-remote%2B7b22686f73744e616d65223a2249424d2d536b756e642d506f64227d/skunk-pod-storage-yzeng58-40wisc-2eedu-pvc/lora/draw_plots/draw_plot_v2.ipynb#X11sdnNjb2RlLXJlbW90ZQ%3D%3D?line=46'>47</a>\u001b[0m })[\u001b[39m'\u001b[39m\u001b[39mtest_loss\u001b[39m\u001b[39m'\u001b[39m]\n",
      "\u001b[1;32m/skunk-pod-storage-yzeng58-40wisc-2eedu-pvc/lora/draw_plots/draw_plot_v2.ipynb Cell 5\u001b[0m line \u001b[0;36mget_loss\u001b[0;34m(args_dict)\u001b[0m\n\u001b[1;32m     <a href='vscode-notebook-cell://ssh-remote%2B7b22686f73744e616d65223a2249424d2d536b756e642d506f64227d/skunk-pod-storage-yzeng58-40wisc-2eedu-pvc/lora/draw_plots/draw_plot_v2.ipynb#X11sdnNjb2RlLXJlbW90ZQ%3D%3D?line=20'>21</a>\u001b[0m     test_loss[method][rank][seed] \u001b[39m=\u001b[39m row_with_min_loss[\u001b[39m'\u001b[39m\u001b[39mtest_loss\u001b[39m\u001b[39m'\u001b[39m]\n\u001b[1;32m     <a href='vscode-notebook-cell://ssh-remote%2B7b22686f73744e616d65223a2249424d2d536b756e642d506f64227d/skunk-pod-storage-yzeng58-40wisc-2eedu-pvc/lora/draw_plots/draw_plot_v2.ipynb#X11sdnNjb2RlLXJlbW90ZQ%3D%3D?line=21'>22</a>\u001b[0m \u001b[39melif\u001b[39;00m method \u001b[39m==\u001b[39m \u001b[39m'\u001b[39m\u001b[39mours\u001b[39m\u001b[39m'\u001b[39m:\n\u001b[0;32m---> <a href='vscode-notebook-cell://ssh-remote%2B7b22686f73744e616d65223a2249424d2d536b756e642d506f64227d/skunk-pod-storage-yzeng58-40wisc-2eedu-pvc/lora/draw_plots/draw_plot_v2.ipynb#X11sdnNjb2RlLXJlbW90ZQ%3D%3D?line=22'>23</a>\u001b[0m     test_loss[method][rank][seed] \u001b[39m=\u001b[39m seed_df[\u001b[39m'\u001b[39;49m\u001b[39mtest_loss\u001b[39;49m\u001b[39m'\u001b[39;49m]\u001b[39m.\u001b[39;49miloc[\u001b[39m0\u001b[39;49m]\n\u001b[1;32m     <a href='vscode-notebook-cell://ssh-remote%2B7b22686f73744e616d65223a2249424d2d536b756e642d506f64227d/skunk-pod-storage-yzeng58-40wisc-2eedu-pvc/lora/draw_plots/draw_plot_v2.ipynb#X11sdnNjb2RlLXJlbW90ZQ%3D%3D?line=23'>24</a>\u001b[0m \u001b[39melse\u001b[39;00m:\n\u001b[1;32m     <a href='vscode-notebook-cell://ssh-remote%2B7b22686f73744e616d65223a2249424d2d536b756e642d506f64227d/skunk-pod-storage-yzeng58-40wisc-2eedu-pvc/lora/draw_plots/draw_plot_v2.ipynb#X11sdnNjb2RlLXJlbW90ZQ%3D%3D?line=24'>25</a>\u001b[0m     \u001b[39mraise\u001b[39;00m notImplementError(\u001b[39mf\u001b[39m\u001b[39m\"\u001b[39m\u001b[39mWe only support sgd and ours, not \u001b[39m\u001b[39m{\u001b[39;00mmethod\u001b[39m}\u001b[39;00m\u001b[39m!\u001b[39m\u001b[39m\"\u001b[39m)\n",
      "File \u001b[0;32m/skunk-pod-storage-yzeng58-40wisc-2eedu-pvc/anaconda3/envs/ibm/lib/python3.8/site-packages/pandas/core/indexing.py:1073\u001b[0m, in \u001b[0;36m_LocationIndexer.__getitem__\u001b[0;34m(self, key)\u001b[0m\n\u001b[1;32m   1070\u001b[0m axis \u001b[39m=\u001b[39m \u001b[39mself\u001b[39m\u001b[39m.\u001b[39maxis \u001b[39mor\u001b[39;00m \u001b[39m0\u001b[39m\n\u001b[1;32m   1072\u001b[0m maybe_callable \u001b[39m=\u001b[39m com\u001b[39m.\u001b[39mapply_if_callable(key, \u001b[39mself\u001b[39m\u001b[39m.\u001b[39mobj)\n\u001b[0;32m-> 1073\u001b[0m \u001b[39mreturn\u001b[39;00m \u001b[39mself\u001b[39;49m\u001b[39m.\u001b[39;49m_getitem_axis(maybe_callable, axis\u001b[39m=\u001b[39;49maxis)\n",
      "File \u001b[0;32m/skunk-pod-storage-yzeng58-40wisc-2eedu-pvc/anaconda3/envs/ibm/lib/python3.8/site-packages/pandas/core/indexing.py:1625\u001b[0m, in \u001b[0;36m_iLocIndexer._getitem_axis\u001b[0;34m(self, key, axis)\u001b[0m\n\u001b[1;32m   1622\u001b[0m     \u001b[39mraise\u001b[39;00m \u001b[39mTypeError\u001b[39;00m(\u001b[39m\"\u001b[39m\u001b[39mCannot index by location index with a non-integer key\u001b[39m\u001b[39m\"\u001b[39m)\n\u001b[1;32m   1624\u001b[0m \u001b[39m# validate the location\u001b[39;00m\n\u001b[0;32m-> 1625\u001b[0m \u001b[39mself\u001b[39;49m\u001b[39m.\u001b[39;49m_validate_integer(key, axis)\n\u001b[1;32m   1627\u001b[0m \u001b[39mreturn\u001b[39;00m \u001b[39mself\u001b[39m\u001b[39m.\u001b[39mobj\u001b[39m.\u001b[39m_ixs(key, axis\u001b[39m=\u001b[39maxis)\n",
      "File \u001b[0;32m/skunk-pod-storage-yzeng58-40wisc-2eedu-pvc/anaconda3/envs/ibm/lib/python3.8/site-packages/pandas/core/indexing.py:1557\u001b[0m, in \u001b[0;36m_iLocIndexer._validate_integer\u001b[0;34m(self, key, axis)\u001b[0m\n\u001b[1;32m   1555\u001b[0m len_axis \u001b[39m=\u001b[39m \u001b[39mlen\u001b[39m(\u001b[39mself\u001b[39m\u001b[39m.\u001b[39mobj\u001b[39m.\u001b[39m_get_axis(axis))\n\u001b[1;32m   1556\u001b[0m \u001b[39mif\u001b[39;00m key \u001b[39m>\u001b[39m\u001b[39m=\u001b[39m len_axis \u001b[39mor\u001b[39;00m key \u001b[39m<\u001b[39m \u001b[39m-\u001b[39mlen_axis:\n\u001b[0;32m-> 1557\u001b[0m     \u001b[39mraise\u001b[39;00m \u001b[39mIndexError\u001b[39;00m(\u001b[39m\"\u001b[39m\u001b[39msingle positional indexer is out-of-bounds\u001b[39m\u001b[39m\"\u001b[39m)\n",
      "\u001b[0;31mIndexError\u001b[0m: single positional indexer is out-of-bounds"
     ]
    }
   ],
   "source": [
    "# loading the data\n",
    "\n",
    "random_linear = get_loss({\n",
    "    'activation': 'linear',\n",
    "    'use_bias': 0,\n",
    "    'target_depth': 1,\n",
    "    'frozen_depth': 2,\n",
    "    'init_mode': 'default',\n",
    "    'width': 16,\n",
    "    'exp': 'fnn',\n",
    "    'pretrained': 0,\n",
    "    'tune_bias': 1,\n",
    "})['test_loss']\n",
    "\n",
    "random_fnn = get_loss({\n",
    "    'activation': 'relu',\n",
    "    'use_bias': 1,\n",
    "    'target_depth': 2,\n",
    "    'frozen_depth': 4,\n",
    "    'init_mode': 'default',\n",
    "    'width': 16,\n",
    "    'exp': 'fnn',\n",
    "    'pretrained': 0,\n",
    "    'tune_bias': 1,\n",
    "})['test_loss']\n",
    "\n",
    "pretrained_linear = get_loss({\n",
    "    'activation': 'linear',\n",
    "    'use_bias': 0,\n",
    "    'target_depth': 1,\n",
    "    'frozen_depth': 2,\n",
    "    'init_mode': 'default',\n",
    "    'width': 16,\n",
    "    'exp': 'fnn',\n",
    "    'pretrained': 1,\n",
    "})['test_loss']\n",
    "\n",
    "pretrained_fnn = get_loss({\n",
    "    'activation': 'relu',\n",
    "    'use_bias': 1,\n",
    "    'target_depth': 2,\n",
    "    'frozen_depth': 4,\n",
    "    'init_mode': 'default',\n",
    "    'width': 16,\n",
    "    'exp': 'fnn',\n",
    "    'pretrained': 1,\n",
    "})['test_loss']"
   ]
  },
  {
   "cell_type": "code",
   "execution_count": 11,
   "id": "5720270d",
   "metadata": {},
   "outputs": [
    {
     "ename": "IndexError",
     "evalue": "single positional indexer is out-of-bounds",
     "output_type": "error",
     "traceback": [
      "\u001b[0;31m---------------------------------------------------------------------------\u001b[0m",
      "\u001b[0;31mIndexError\u001b[0m                                Traceback (most recent call last)",
      "\u001b[1;32m/skunk-pod-storage-yzeng58-40wisc-2eedu-pvc/lora/draw_plots/draw_plot_v2.ipynb Cell 6\u001b[0m line \u001b[0;36m<cell line: 1>\u001b[0;34m()\u001b[0m\n\u001b[0;32m----> <a href='vscode-notebook-cell://ssh-remote%2B7b22686f73744e616d65223a2249424d2d536b756e642d506f64227d/skunk-pod-storage-yzeng58-40wisc-2eedu-pvc/lora/draw_plots/draw_plot_v2.ipynb#X31sdnNjb2RlLXJlbW90ZQ%3D%3D?line=0'>1</a>\u001b[0m get_loss({\n\u001b[1;32m      <a href='vscode-notebook-cell://ssh-remote%2B7b22686f73744e616d65223a2249424d2d536b756e642d506f64227d/skunk-pod-storage-yzeng58-40wisc-2eedu-pvc/lora/draw_plots/draw_plot_v2.ipynb#X31sdnNjb2RlLXJlbW90ZQ%3D%3D?line=1'>2</a>\u001b[0m     \u001b[39m'\u001b[39;49m\u001b[39mactivation\u001b[39;49m\u001b[39m'\u001b[39;49m: \u001b[39m'\u001b[39;49m\u001b[39mrelu\u001b[39;49m\u001b[39m'\u001b[39;49m,\n\u001b[1;32m      <a href='vscode-notebook-cell://ssh-remote%2B7b22686f73744e616d65223a2249424d2d536b756e642d506f64227d/skunk-pod-storage-yzeng58-40wisc-2eedu-pvc/lora/draw_plots/draw_plot_v2.ipynb#X31sdnNjb2RlLXJlbW90ZQ%3D%3D?line=2'>3</a>\u001b[0m     \u001b[39m'\u001b[39;49m\u001b[39muse_bias\u001b[39;49m\u001b[39m'\u001b[39;49m: \u001b[39m1\u001b[39;49m,\n\u001b[1;32m      <a href='vscode-notebook-cell://ssh-remote%2B7b22686f73744e616d65223a2249424d2d536b756e642d506f64227d/skunk-pod-storage-yzeng58-40wisc-2eedu-pvc/lora/draw_plots/draw_plot_v2.ipynb#X31sdnNjb2RlLXJlbW90ZQ%3D%3D?line=3'>4</a>\u001b[0m     \u001b[39m'\u001b[39;49m\u001b[39mtarget_depth\u001b[39;49m\u001b[39m'\u001b[39;49m: \u001b[39m2\u001b[39;49m,\n\u001b[1;32m      <a href='vscode-notebook-cell://ssh-remote%2B7b22686f73744e616d65223a2249424d2d536b756e642d506f64227d/skunk-pod-storage-yzeng58-40wisc-2eedu-pvc/lora/draw_plots/draw_plot_v2.ipynb#X31sdnNjb2RlLXJlbW90ZQ%3D%3D?line=4'>5</a>\u001b[0m     \u001b[39m'\u001b[39;49m\u001b[39mfrozen_depth\u001b[39;49m\u001b[39m'\u001b[39;49m: \u001b[39m4\u001b[39;49m,\n\u001b[1;32m      <a href='vscode-notebook-cell://ssh-remote%2B7b22686f73744e616d65223a2249424d2d536b756e642d506f64227d/skunk-pod-storage-yzeng58-40wisc-2eedu-pvc/lora/draw_plots/draw_plot_v2.ipynb#X31sdnNjb2RlLXJlbW90ZQ%3D%3D?line=5'>6</a>\u001b[0m     \u001b[39m'\u001b[39;49m\u001b[39minit_mode\u001b[39;49m\u001b[39m'\u001b[39;49m: \u001b[39m'\u001b[39;49m\u001b[39mdefault\u001b[39;49m\u001b[39m'\u001b[39;49m,\n\u001b[1;32m      <a href='vscode-notebook-cell://ssh-remote%2B7b22686f73744e616d65223a2249424d2d536b756e642d506f64227d/skunk-pod-storage-yzeng58-40wisc-2eedu-pvc/lora/draw_plots/draw_plot_v2.ipynb#X31sdnNjb2RlLXJlbW90ZQ%3D%3D?line=6'>7</a>\u001b[0m     \u001b[39m'\u001b[39;49m\u001b[39mwidth\u001b[39;49m\u001b[39m'\u001b[39;49m: \u001b[39m16\u001b[39;49m,\n\u001b[1;32m      <a href='vscode-notebook-cell://ssh-remote%2B7b22686f73744e616d65223a2249424d2d536b756e642d506f64227d/skunk-pod-storage-yzeng58-40wisc-2eedu-pvc/lora/draw_plots/draw_plot_v2.ipynb#X31sdnNjb2RlLXJlbW90ZQ%3D%3D?line=7'>8</a>\u001b[0m     \u001b[39m'\u001b[39;49m\u001b[39mexp\u001b[39;49m\u001b[39m'\u001b[39;49m: \u001b[39m'\u001b[39;49m\u001b[39mfnn\u001b[39;49m\u001b[39m'\u001b[39;49m,\n\u001b[1;32m      <a href='vscode-notebook-cell://ssh-remote%2B7b22686f73744e616d65223a2249424d2d536b756e642d506f64227d/skunk-pod-storage-yzeng58-40wisc-2eedu-pvc/lora/draw_plots/draw_plot_v2.ipynb#X31sdnNjb2RlLXJlbW90ZQ%3D%3D?line=8'>9</a>\u001b[0m     \u001b[39m'\u001b[39;49m\u001b[39mpretrained\u001b[39;49m\u001b[39m'\u001b[39;49m: \u001b[39m0\u001b[39;49m,\n\u001b[1;32m     <a href='vscode-notebook-cell://ssh-remote%2B7b22686f73744e616d65223a2249424d2d536b756e642d506f64227d/skunk-pod-storage-yzeng58-40wisc-2eedu-pvc/lora/draw_plots/draw_plot_v2.ipynb#X31sdnNjb2RlLXJlbW90ZQ%3D%3D?line=9'>10</a>\u001b[0m })\n",
      "\u001b[1;32m/skunk-pod-storage-yzeng58-40wisc-2eedu-pvc/lora/draw_plots/draw_plot_v2.ipynb Cell 6\u001b[0m line \u001b[0;36mget_loss\u001b[0;34m(args_dict)\u001b[0m\n\u001b[1;32m     <a href='vscode-notebook-cell://ssh-remote%2B7b22686f73744e616d65223a2249424d2d536b756e642d506f64227d/skunk-pod-storage-yzeng58-40wisc-2eedu-pvc/lora/draw_plots/draw_plot_v2.ipynb#X31sdnNjb2RlLXJlbW90ZQ%3D%3D?line=20'>21</a>\u001b[0m     test_loss[method][rank][seed] \u001b[39m=\u001b[39m row_with_min_loss[\u001b[39m'\u001b[39m\u001b[39mtest_loss\u001b[39m\u001b[39m'\u001b[39m]\n\u001b[1;32m     <a href='vscode-notebook-cell://ssh-remote%2B7b22686f73744e616d65223a2249424d2d536b756e642d506f64227d/skunk-pod-storage-yzeng58-40wisc-2eedu-pvc/lora/draw_plots/draw_plot_v2.ipynb#X31sdnNjb2RlLXJlbW90ZQ%3D%3D?line=21'>22</a>\u001b[0m \u001b[39melif\u001b[39;00m method \u001b[39m==\u001b[39m \u001b[39m'\u001b[39m\u001b[39mours\u001b[39m\u001b[39m'\u001b[39m:\n\u001b[0;32m---> <a href='vscode-notebook-cell://ssh-remote%2B7b22686f73744e616d65223a2249424d2d536b756e642d506f64227d/skunk-pod-storage-yzeng58-40wisc-2eedu-pvc/lora/draw_plots/draw_plot_v2.ipynb#X31sdnNjb2RlLXJlbW90ZQ%3D%3D?line=22'>23</a>\u001b[0m     test_loss[method][rank][seed] \u001b[39m=\u001b[39m seed_df[\u001b[39m'\u001b[39;49m\u001b[39mtest_loss\u001b[39;49m\u001b[39m'\u001b[39;49m]\u001b[39m.\u001b[39;49miloc[\u001b[39m0\u001b[39;49m]\n\u001b[1;32m     <a href='vscode-notebook-cell://ssh-remote%2B7b22686f73744e616d65223a2249424d2d536b756e642d506f64227d/skunk-pod-storage-yzeng58-40wisc-2eedu-pvc/lora/draw_plots/draw_plot_v2.ipynb#X31sdnNjb2RlLXJlbW90ZQ%3D%3D?line=23'>24</a>\u001b[0m \u001b[39melse\u001b[39;00m:\n\u001b[1;32m     <a href='vscode-notebook-cell://ssh-remote%2B7b22686f73744e616d65223a2249424d2d536b756e642d506f64227d/skunk-pod-storage-yzeng58-40wisc-2eedu-pvc/lora/draw_plots/draw_plot_v2.ipynb#X31sdnNjb2RlLXJlbW90ZQ%3D%3D?line=24'>25</a>\u001b[0m     \u001b[39mraise\u001b[39;00m notImplementError(\u001b[39mf\u001b[39m\u001b[39m\"\u001b[39m\u001b[39mWe only support sgd and ours, not \u001b[39m\u001b[39m{\u001b[39;00mmethod\u001b[39m}\u001b[39;00m\u001b[39m!\u001b[39m\u001b[39m\"\u001b[39m)\n",
      "File \u001b[0;32m/skunk-pod-storage-yzeng58-40wisc-2eedu-pvc/anaconda3/envs/ibm/lib/python3.8/site-packages/pandas/core/indexing.py:1073\u001b[0m, in \u001b[0;36m_LocationIndexer.__getitem__\u001b[0;34m(self, key)\u001b[0m\n\u001b[1;32m   1070\u001b[0m axis \u001b[39m=\u001b[39m \u001b[39mself\u001b[39m\u001b[39m.\u001b[39maxis \u001b[39mor\u001b[39;00m \u001b[39m0\u001b[39m\n\u001b[1;32m   1072\u001b[0m maybe_callable \u001b[39m=\u001b[39m com\u001b[39m.\u001b[39mapply_if_callable(key, \u001b[39mself\u001b[39m\u001b[39m.\u001b[39mobj)\n\u001b[0;32m-> 1073\u001b[0m \u001b[39mreturn\u001b[39;00m \u001b[39mself\u001b[39;49m\u001b[39m.\u001b[39;49m_getitem_axis(maybe_callable, axis\u001b[39m=\u001b[39;49maxis)\n",
      "File \u001b[0;32m/skunk-pod-storage-yzeng58-40wisc-2eedu-pvc/anaconda3/envs/ibm/lib/python3.8/site-packages/pandas/core/indexing.py:1625\u001b[0m, in \u001b[0;36m_iLocIndexer._getitem_axis\u001b[0;34m(self, key, axis)\u001b[0m\n\u001b[1;32m   1622\u001b[0m     \u001b[39mraise\u001b[39;00m \u001b[39mTypeError\u001b[39;00m(\u001b[39m\"\u001b[39m\u001b[39mCannot index by location index with a non-integer key\u001b[39m\u001b[39m\"\u001b[39m)\n\u001b[1;32m   1624\u001b[0m \u001b[39m# validate the location\u001b[39;00m\n\u001b[0;32m-> 1625\u001b[0m \u001b[39mself\u001b[39;49m\u001b[39m.\u001b[39;49m_validate_integer(key, axis)\n\u001b[1;32m   1627\u001b[0m \u001b[39mreturn\u001b[39;00m \u001b[39mself\u001b[39m\u001b[39m.\u001b[39mobj\u001b[39m.\u001b[39m_ixs(key, axis\u001b[39m=\u001b[39maxis)\n",
      "File \u001b[0;32m/skunk-pod-storage-yzeng58-40wisc-2eedu-pvc/anaconda3/envs/ibm/lib/python3.8/site-packages/pandas/core/indexing.py:1557\u001b[0m, in \u001b[0;36m_iLocIndexer._validate_integer\u001b[0;34m(self, key, axis)\u001b[0m\n\u001b[1;32m   1555\u001b[0m len_axis \u001b[39m=\u001b[39m \u001b[39mlen\u001b[39m(\u001b[39mself\u001b[39m\u001b[39m.\u001b[39mobj\u001b[39m.\u001b[39m_get_axis(axis))\n\u001b[1;32m   1556\u001b[0m \u001b[39mif\u001b[39;00m key \u001b[39m>\u001b[39m\u001b[39m=\u001b[39m len_axis \u001b[39mor\u001b[39;00m key \u001b[39m<\u001b[39m \u001b[39m-\u001b[39mlen_axis:\n\u001b[0;32m-> 1557\u001b[0m     \u001b[39mraise\u001b[39;00m \u001b[39mIndexError\u001b[39;00m(\u001b[39m\"\u001b[39m\u001b[39msingle positional indexer is out-of-bounds\u001b[39m\u001b[39m\"\u001b[39m)\n",
      "\u001b[0;31mIndexError\u001b[0m: single positional indexer is out-of-bounds"
     ]
    }
   ],
   "source": [
    "get_loss({\n",
    "    'activation': 'relu',\n",
    "    'use_bias': 1,\n",
    "    'target_depth': 2,\n",
    "    'frozen_depth': 4,\n",
    "    'init_mode': 'default',\n",
    "    'width': 16,\n",
    "    'exp': 'fnn',\n",
    "    'pretrained': 0,\n",
    "    'tune_bias': 1,\n",
    "})"
   ]
  },
  {
   "cell_type": "code",
   "execution_count": 30,
   "id": "8512f2a1",
   "metadata": {},
   "outputs": [
    {
     "name": "stderr",
     "output_type": "stream",
     "text": [
      "/tmp/ipykernel_1553861/4245971351.py:16: MatplotlibDeprecationWarning: The join function was deprecated in Matplotlib 3.6 and will be removed two minor releases later.\n",
      "  ax[0, 0].get_shared_y_axes().join(ax[0, 0], ax[0, 1])\n",
      "/tmp/ipykernel_1553861/4245971351.py:18: MatplotlibDeprecationWarning: The join function was deprecated in Matplotlib 3.6 and will be removed two minor releases later.\n",
      "  ax[1, 0].get_shared_y_axes().join(ax[1, 0], ax[1, 1])\n"
     ]
    },
    {
     "data": {
      "image/png": "[encoded data removed]",
      "text/plain": [
       "<Figure size 504x360 with 4 Axes>"
      ]
     },
     "metadata": {
      "needs_background": "light"
     },
     "output_type": "display_data"
    }
   ],
   "source": [
    "plt.rc('font', family='serif', serif='times new roman')\n",
    "plt.rc('text', usetex=True)\n",
    "plt.rc('xtick', labelsize=22)\n",
    "plt.rc('ytick', labelsize=22)\n",
    "mpl.rcParams['patch.linewidth']=0.5 #width of the boundary of legend\n",
    "\n",
    "rank_list = np.arange(16)+1\n",
    "sgd_marker, sgd_color, sgd_lt, sgd_ms = 's', '#118AB2', '--', 6\n",
    "our_marker, our_color, our_lt, our_ms = 'o', '#DD3497', '-', 5\n",
    "lw = 2.5\n",
    "\n",
    "fig, ax = plt.subplots(nrows=2, ncols=2, sharex = True)\n",
    "fig.subplots_adjust(left=0.18, bottom=.15, right=0.99, top=0.92, wspace=0.05, hspace = 0.05) #margin of the figure\n",
    "fig.set_size_inches(7, 5) #exact size of the figure\n",
    "# First row share the same y-axis\n",
    "ax[0, 0].get_shared_y_axes().join(ax[0, 0], ax[0, 1])\n",
    "# Second row share the same y-axis\n",
    "ax[1, 0].get_shared_y_axes().join(ax[1, 0], ax[1, 1])\n",
    "\n",
    "random_linear['sgd'].plot(ax = ax[0][0], color = sgd_color, label = 'Gradient Update', linestyle = sgd_lt, marker = sgd_marker, linewidth = lw, markersize = sgd_ms)\n",
    "random_linear['ours'].plot(ax = ax[0][0], color = our_color, label = 'Our Construction', linestyle = our_lt, marker = our_marker, linewidth = lw, markersize = our_ms)\n",
    "\n",
    "pretrained_linear['sgd'].plot(ax = ax[0][1], color = sgd_color, label = 'Gradient Update', linestyle = sgd_lt, marker = sgd_marker, linewidth = lw, markersize = sgd_ms)\n",
    "pretrained_linear['ours'].plot(ax = ax[0][1], color = our_color, label = 'Our Construction', linestyle = our_lt, marker = our_marker, linewidth = lw, markersize = our_ms)\n",
    "\n",
    "random_fnn['sgd'].plot(ax = ax[1][0], color = sgd_color, label = 'Gradient Update', linestyle = sgd_lt, marker = sgd_marker, linewidth = lw, markersize = sgd_ms)\n",
    "random_fnn['ours'].plot(ax = ax[1][0], color = our_color, label = 'Our Construction', linestyle = our_lt, marker = our_marker, linewidth = lw, markersize = our_ms)\n",
    "\n",
    "pretrained_fnn['sgd'].plot(ax = ax[1][1], color = sgd_color, label = 'Gradient Update', linestyle = sgd_lt, marker = sgd_marker, linewidth = lw, markersize = sgd_ms)\n",
    "pretrained_fnn['ours'].plot(ax = ax[1][1], color = our_color, label = 'Our Construction', linestyle = our_lt, marker = our_marker, linewidth = lw, markersize = our_ms)\n",
    "\n",
    "# set the x-ticks\n",
    "\n",
    "for i in range(2):\n",
    "    for j in range(2):\n",
    "        ax[i, j].set_xticks([4, 8, 12, 16])\n",
    "        ax[i][j].grid(True)\n",
    "        \n",
    "ax[0][1].legend(fontsize=16, bbox_to_anchor=(1.02,1))\n",
    "ax[0][0].set_title('Random', size = 22, y = 1.01)\n",
    "ax[0][1].set_title('Pretrained', size = 22, y = 1.01)\n",
    "\n",
    "fig.supxlabel('Rank', fontsize = 26)\n",
    "fig.supylabel('MSE', fontsize = 26)\n",
    "\n",
    "# Set y-labels for each row\n",
    "ax[0, 0].set_ylabel('Linear Model', fontsize = 20)\n",
    "ax[1, 0].set_ylabel('FNN', fontsize = 20)\n",
    "\n",
    "plt.savefig('../figures/main_body.pdf')\n",
    "# Show the plot\n",
    "plt.show()\n"
   ]
  },
  {
   "cell_type": "code",
   "execution_count": 31,
   "id": "1d7271bd",
   "metadata": {},
   "outputs": [
    {
     "data": {
      "image/png": "[encoded data removed]",
      "text/plain": [
       "<Figure size 489.6x216 with 2 Axes>"
      ]
     },
     "metadata": {
      "needs_background": "light"
     },
     "output_type": "display_data"
    }
   ],
   "source": [
    "# Figure 1 setup\n",
    "fig, ax = plt.subplots(nrows=1, ncols=2, sharex=True, sharey = True)\n",
    "fig.subplots_adjust(left=0.15, bottom=.23, right=0.99, top=0.88, wspace=0.05, hspace=0.05)\n",
    "fig.set_size_inches(6.8, 3)\n",
    "\n",
    "random_linear['sgd'].plot(ax=ax[0], color=sgd_color, label='Gradient Update', linestyle=sgd_lt, marker=sgd_marker, linewidth=lw, markersize=sgd_ms)\n",
    "random_linear['ours'].plot(ax=ax[0], color=our_color, label='Our Construction', linestyle=our_lt, marker=our_marker, linewidth=lw, markersize=our_ms)\n",
    "\n",
    "pretrained_linear['sgd'].plot(ax=ax[1], color=sgd_color, label='Gradient Update', linestyle=sgd_lt, marker=sgd_marker, linewidth=lw, markersize=sgd_ms)\n",
    "pretrained_linear['ours'].plot(ax=ax[1], color=our_color, label='Our Construction', linestyle=our_lt, marker=our_marker, linewidth=lw, markersize=our_ms)\n",
    "\n",
    "# set the x-ticks\n",
    "\n",
    "for i in range(2):\n",
    "    ax[i].set_xticks([4, 8, 12, 16])\n",
    "    ax[i].grid(True)\n",
    "\n",
    "ax[1].legend(fontsize=15, bbox_to_anchor=(1.02,1))\n",
    "ax[0].set_title('Random', size = 22, y = 1.01)\n",
    "ax[1].set_title('Pretrained', size = 22, y = 1.01)\n",
    "\n",
    "fig.supxlabel('Rank', fontsize = 26)\n",
    "fig.supylabel('MSE', fontsize = 26)\n",
    "\n",
    "\n",
    "plt.savefig('../figures/figure1.pdf')\n",
    "plt.show()"
   ]
  },
  {
   "cell_type": "code",
   "execution_count": 32,
   "id": "b42812c5",
   "metadata": {},
   "outputs": [
    {
     "data": {
      "image/png": "[encoded data removed]",
      "text/plain": [
       "<Figure size 489.6x216 with 2 Axes>"
      ]
     },
     "metadata": {
      "needs_background": "light"
     },
     "output_type": "display_data"
    }
   ],
   "source": [
    "# Figure 2 setup\n",
    "fig, ax = plt.subplots(nrows=1, ncols=2, sharex=True, sharey = True)\n",
    "fig.subplots_adjust(left=0.15, bottom=.23, right=0.99, top=0.88, wspace=0.05, hspace=0.05)\n",
    "fig.set_size_inches(6.8, 3)\n",
    "\n",
    "random_fnn['sgd'].plot(ax=ax[0], color=sgd_color, label='Gradient Update', linestyle=sgd_lt, marker=sgd_marker, linewidth=lw, markersize=sgd_ms)\n",
    "random_fnn['ours'].plot(ax=ax[0], color=our_color, label='Our Construction', linestyle=our_lt, marker=our_marker, linewidth=lw, markersize=our_ms)\n",
    "\n",
    "pretrained_fnn['sgd'].plot(ax=ax[1], color=sgd_color, label='Gradient Update', linestyle=sgd_lt, marker=sgd_marker, linewidth=lw, markersize=sgd_ms)\n",
    "pretrained_fnn['ours'].plot(ax=ax[1], color=our_color, label='Our Construction', linestyle=our_lt, marker=our_marker, linewidth=lw, markersize=our_ms)\n",
    "\n",
    "# set the x-ticks\n",
    "\n",
    "for i in range(2):\n",
    "    ax[i].set_xticks([4, 8, 12, 16])\n",
    "    ax[i].grid(True)\n",
    "\n",
    "ax[1].legend(fontsize=15, bbox_to_anchor=(0.1,1))\n",
    "ax[0].set_title('Random', size = 22, y = 1.01)\n",
    "ax[1].set_title('Pretrained', size = 22, y = 1.01)\n",
    "\n",
    "fig.supxlabel('Rank', fontsize = 26)\n",
    "fig.supylabel('MSE', fontsize = 26)\n",
    "\n",
    "\n",
    "plt.savefig('../figures/figure2.pdf')\n",
    "plt.show()"
   ]
  },
  {
   "cell_type": "code",
   "execution_count": 80,
   "id": "5a9fc33a",
   "metadata": {},
   "outputs": [],
   "source": [
    "config = df[\n",
    "    (df.activation == 'relu') &\n",
    "    (df.method == 'sgd') &\n",
    "    (df.use_bias == 1) &\n",
    "    (df.target_depth == 2) &\n",
    "    (df.frozen_depth == 4) &\n",
    "    (df.init_mode == 'default') &\n",
    "    (df.width == 16) &\n",
    "    (df.exp == 'fnn') &\n",
    "    (df.pretrained == 1) & \n",
    "    (df['rank'] == 6) &\n",
    "    (df.pretrained == 1)\n",
    "]"
   ]
  },
  {
   "cell_type": "code",
   "execution_count": 81,
   "id": "7d459ca9",
   "metadata": {},
   "outputs": [],
   "source": [
    "best_idx = config['val_loss'].idxmin()"
   ]
  },
  {
   "cell_type": "code",
   "execution_count": 82,
   "id": "865de10c",
   "metadata": {},
   "outputs": [
    {
     "data": {
      "text/plain": [
       "0.0020207008346915245"
      ]
     },
     "execution_count": 82,
     "metadata": {},
     "output_type": "execute_result"
    }
   ],
   "source": [
    "config['train_loss'].loc[best_idx]"
   ]
  },
  {
   "cell_type": "code",
   "execution_count": 83,
   "id": "b5012005",
   "metadata": {},
   "outputs": [
    {
     "data": {
      "text/plain": [
       "'vibrant-leaf-16793'"
      ]
     },
     "execution_count": 83,
     "metadata": {},
     "output_type": "execute_result"
    }
   ],
   "source": [
    "config['run_name'].loc[best_idx]"
   ]
  },
  {
   "cell_type": "code",
   "execution_count": 84,
   "id": "dc7f3dba",
   "metadata": {},
   "outputs": [
    {
     "data": {
      "text/plain": [
       "0.0022019899915903807"
      ]
     },
     "execution_count": 84,
     "metadata": {},
     "output_type": "execute_result"
    }
   ],
   "source": [
    "config['test_loss'].loc[best_idx]"
   ]
  },
  {
   "cell_type": "code",
   "execution_count": 17,
   "id": "a5a10496",
   "metadata": {},
   "outputs": [
    {
     "name": "stdout",
     "output_type": "stream",
     "text": [
      "Is Series equal to any row? True\n",
      "Index of equal row(s): Int64Index([1], dtype='int64')\n"
     ]
    }
   ],
   "source": [
    "import pandas as pd\n",
    "\n",
    "# Sample DataFrame\n",
    "df = pd.DataFrame({'col1': [1, 2, 3],\n",
    "                   'col2': [4, 5, 6],\n",
    "                   'col3': [7, 8, 9]})\n",
    "\n",
    "# Sample Series\n",
    "s = pd.Series([2, 5, 8], index=['col1', 'col2', 'col3'])\n",
    "\n",
    "# Check if the Series is equal to any row in the DataFrame\n",
    "is_equal = (df.eq(s).all(axis=1))\n",
    "\n",
    "# Get index where Series is equal to a row in DataFrame\n",
    "equal_row_index = is_equal[is_equal].index\n",
    "\n",
    "print(f\"Is Series equal to any row? {is_equal.any()}\")\n",
    "print(f\"Index of equal row(s): {equal_row_index}\")\n"
   ]
  },
  {
   "cell_type": "code",
   "execution_count": 18,
   "id": "feb011f4",
   "metadata": {},
   "outputs": [
    {
     "data": {
      "text/html": [
       "<div>\n",
       "<style scoped>\n",
       "    .dataframe tbody tr th:only-of-type {\n",
       "        vertical-align: middle;\n",
       "    }\n",
       "\n",
       "    .dataframe tbody tr th {\n",
       "        vertical-align: top;\n",
       "    }\n",
       "\n",
       "    .dataframe thead th {\n",
       "        text-align: right;\n",
       "    }\n",
       "</style>\n",
       "<table border=\"1\" class=\"dataframe\">\n",
       "  <thead>\n",
       "    <tr style=\"text-align: right;\">\n",
       "      <th></th>\n",
       "      <th>col1</th>\n",
       "      <th>col2</th>\n",
       "      <th>col3</th>\n",
       "    </tr>\n",
       "  </thead>\n",
       "  <tbody>\n",
       "    <tr>\n",
       "      <th>0</th>\n",
       "      <td>1</td>\n",
       "      <td>4</td>\n",
       "      <td>7</td>\n",
       "    </tr>\n",
       "    <tr>\n",
       "      <th>1</th>\n",
       "      <td>2</td>\n",
       "      <td>5</td>\n",
       "      <td>8</td>\n",
       "    </tr>\n",
       "    <tr>\n",
       "      <th>2</th>\n",
       "      <td>3</td>\n",
       "      <td>6</td>\n",
       "      <td>9</td>\n",
       "    </tr>\n",
       "  </tbody>\n",
       "</table>\n",
       "</div>"
      ],
      "text/plain": [
       "   col1  col2  col3\n",
       "0     1     4     7\n",
       "1     2     5     8\n",
       "2     3     6     9"
      ]
     },
     "execution_count": 18,
     "metadata": {},
     "output_type": "execute_result"
    }
   ],
   "source": [
    "df"
   ]
  },
  {
   "cell_type": "code",
   "execution_count": null,
   "id": "45f1b245",
   "metadata": {},
   "outputs": [],
   "source": []
  }
 ],
 "metadata": {
  "kernelspec": {
   "display_name": "Python 3 (ipykernel)",
   "language": "python",
   "name": "python3"
  },
  "language_info": {
   "codemirror_mode": {
    "name": "ipython",
    "version": 3
   },
   "file_extension": ".py",
   "mimetype": "text/x-python",
   "name": "python",
   "nbconvert_exporter": "python",
   "pygments_lexer": "ipython3",
   "version": "3.8.13"
  }
 },
 "nbformat": 4,
 "nbformat_minor": 5
}
