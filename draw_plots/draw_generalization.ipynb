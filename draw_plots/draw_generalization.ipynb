{
 "cells": [
  {
   "cell_type": "code",
   "execution_count": 1,
   "metadata": {},
   "outputs": [],
   "source": [
    "import pandas as pd\n",
    "import matplotlib.pyplot as plt\n",
    "import matplotlib\n",
    "import matplotlib as mpl\n",
    "import numpy as np"
   ]
  },
  {
   "cell_type": "code",
   "execution_count": 2,
   "metadata": {},
   "outputs": [],
   "source": [
    "df = pd.read_pickle('../results/results.pkl')"
   ]
  },
  {
   "cell_type": "code",
   "execution_count": 54,
   "metadata": {},
   "outputs": [],
   "source": [
    "def get_rows(\n",
    "    args_dict,\n",
    "):\n",
    "    idx = {}\n",
    "    for key, value in args_dict.items():\n",
    "        if value is None:\n",
    "            idx[key] = np.ones_like(df[key], dtype=bool)\n",
    "        else:\n",
    "            idx[key] = df[key] == value\n",
    "        \n",
    "    run_idx = np.ones_like(df['test_loss'], dtype=bool)\n",
    "    for key, value in idx.items():\n",
    "        run_idx = run_idx & value\n",
    "    \n",
    "    # print(f\"Selected {run_idx.sum()} runs!\")\n",
    "    \n",
    "    run_df = df[run_idx].reset_index(drop=True)   \n",
    "    return run_df\n",
    "\n",
    "def get_loss(\n",
    "    args_dict,\n",
    "    mtc_l = ['test_loss'],\n",
    "):\n",
    "    run_df = get_rows(args_dict)\n",
    "\n",
    "    rank_set = list(np.unique(run_df['rank']))\n",
    "    if 0 in rank_set: rank_set.remove(0)\n",
    "    seed_set = np.unique(run_df['seed'])\n",
    "    metric, metric_median = {}, {}\n",
    "    output = {}\n",
    "    \n",
    "    normal_df = run_df[run_df['tune_bias'] == 1].reset_index(drop=True)\n",
    "    for method in ['sgd', 'ours']:\n",
    "        group_df = normal_df[normal_df['method'] == method].reset_index(drop=True)   \n",
    "        for mtc in mtc_l:\n",
    "            metric[mtc], metric_median[mtc] = {}, {}\n",
    "\n",
    "            for rank in rank_set:\n",
    "                rank_df = group_df[group_df['rank'] == rank].reset_index(drop=True)\n",
    "                metric[mtc][rank] = {}\n",
    "                for seed in seed_set:\n",
    "                    seed_df = rank_df[rank_df['seed'] == seed].reset_index(drop=True)   \n",
    "                    \n",
    "                    if method == 'sgd':     \n",
    "                        try:\n",
    "                            min_loss_index = seed_df['val_loss'].idxmin()\n",
    "                            row_with_min_loss = seed_df.loc[min_loss_index]\n",
    "                            metric[mtc][rank][seed] = row_with_min_loss[mtc]\n",
    "                        except ValueError:\n",
    "                            print(rank,seed)\n",
    "                    elif method == 'ours':\n",
    "                        try:\n",
    "                            metric[mtc][rank][seed] = seed_df[mtc].iloc[-1]\n",
    "                        except IndexError:\n",
    "                            print(rank,seed)\n",
    "                    else:\n",
    "                        raise ValueError('method must be sgd or ours')\n",
    "                metric_median[mtc][rank] = pd.Series(metric[mtc][rank]).median()\n",
    "        output[method] = {mtc: metric_median[mtc] for mtc in mtc_l}\n",
    "        \n",
    "    return pd.DataFrame(output[method])"
   ]
  },
  {
   "cell_type": "code",
   "execution_count": 9,
   "metadata": {},
   "outputs": [],
   "source": [
    "\n",
    "activation = 'relu'\n",
    "use_bias = 1\n",
    "width = 16\n",
    "exp = 'fnn'\n",
    "init_mode = 'default'\n",
    "pretrained = 0\n",
    "\n",
    "fnn_results = {}\n",
    "for target_depth in [1,2]:\n",
    "    frozen_depth = 2 * target_depth\n",
    "    fnn_results[target_depth] = get_loss({\n",
    "        'activation': activation,\n",
    "        'use_bias': use_bias,\n",
    "        'target_depth': target_depth,\n",
    "        'frozen_depth': frozen_depth,\n",
    "        'init_mode': init_mode,\n",
    "        'width': width,\n",
    "        'exp': exp,\n",
    "        'pretrained': pretrained,\n",
    "        'rank_step': 0,\n",
    "        'task': 'regression',\n",
    "        'n_train': 400*target_depth,\n",
    "        'best_epoch': 0,\n",
    "    })\n",
    "    \n"
   ]
  },
  {
   "cell_type": "code",
   "execution_count": 53,
   "metadata": {},
   "outputs": [
    {
     "data": {
      "image/png": "[encoded data removed]",
      "text/plain": [
       "<Figure size 504x252 with 2 Axes>"
      ]
     },
     "metadata": {
      "needs_background": "light"
     },
     "output_type": "display_data"
    }
   ],
   "source": [
    "plt.rc('font', family='serif', serif='times new roman')\n",
    "plt.rc('text', usetex=True)\n",
    "plt.rc('xtick', labelsize=22)\n",
    "plt.rc('ytick', labelsize=22)\n",
    "mpl.rcParams['patch.linewidth']=0.5 #width of the boundary of legend\n",
    "\n",
    "sgd_marker, sgd_color, sgd_lt, sgd_ms = 's', '#118AB2', '--', 6\n",
    "our_marker, our_color, our_lt, our_ms = 'o', '#DD3497', '-', 5\n",
    "lw = 2.5\n",
    "\n",
    "fig, ax = plt.subplots(nrows=1, ncols=2, sharey = False)\n",
    "fig.subplots_adjust(left=0.16, bottom=.24, right=0.98, top=0.9, wspace=0.28, hspace = 0.3) #margin of the figure\n",
    "fig.set_size_inches(7, 3.5) #exact size of the figure\n",
    "\n",
    "for target_depth in [1,2]:\n",
    "    fnn_results[target_depth]['train_loss'].plot(ax = ax[target_depth-1], color = sgd_color, label = 'Train', linestyle = sgd_lt, marker = sgd_marker, linewidth = lw, markersize = sgd_ms, logy = True)\n",
    "    fnn_results[target_depth]['test_loss'].plot(ax = ax[target_depth-1], color = our_color, label = 'Test', linestyle = our_lt, marker = our_marker, linewidth = lw, markersize = our_ms, logy = True)\n",
    "    ax[target_depth-1].grid(True)\n",
    "    ax[target_depth-1].set_xticks([0,4,8,12,16])\n",
    "    \n",
    "ax[0].set_title(r'$\\overline{L}=1, L=2$', size = 22, y = 1.01)\n",
    "ax[1].set_title(r'$\\overline{L}=2, L=4$', size = 22, y = 1.01)\n",
    "\n",
    "ax[1].legend(fontsize=18, bbox_to_anchor=(0.37,.6))\n",
    "fig.supxlabel('Rank', fontsize = 26)\n",
    "fig.supylabel('MSE', fontsize = 26)\n",
    "    \n",
    "plt.savefig('../figures/train_test_gen.pdf')\n",
    "# Show the plot\n",
    "plt.show()"
   ]
  }
 ],
 "metadata": {
  "kernelspec": {
   "display_name": "ibm",
   "language": "python",
   "name": "python3"
  },
  "language_info": {
   "codemirror_mode": {
    "name": "ipython",
    "version": 3
   },
   "file_extension": ".py",
   "mimetype": "text/x-python",
   "name": "python",
   "nbconvert_exporter": "python",
   "pygments_lexer": "ipython3",
   "version": "3.8.13"
  }
 },
 "nbformat": 4,
 "nbformat_minor": 2
}
