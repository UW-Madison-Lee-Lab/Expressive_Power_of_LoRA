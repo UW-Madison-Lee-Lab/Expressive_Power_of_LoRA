{
 "cells": [
  {
   "cell_type": "code",
   "execution_count": 1,
   "id": "f9e5619d",
   "metadata": {},
   "outputs": [],
   "source": [
    "import pandas as pd\n",
    "import matplotlib.pyplot as plt\n",
    "import matplotlib\n",
    "import matplotlib as mpl\n",
    "import numpy as np"
   ]
  },
  {
   "cell_type": "code",
   "execution_count": 2,
   "id": "0f63256a",
   "metadata": {},
   "outputs": [],
   "source": [
    "df = pd.read_pickle('../results/results.pkl')"
   ]
  },
  {
   "cell_type": "code",
   "execution_count": 3,
   "id": "4c49fe4f",
   "metadata": {},
   "outputs": [],
   "source": [
    "def get_loss(\n",
    "    activation = 'linear',\n",
    "    use_bias = 1,\n",
    "    target_depth = 1,\n",
    "    frozen_depth = 8,\n",
    "    init_mode = 'default',\n",
    "    width = 16,\n",
    "    exp = 'fnn',\n",
    "    pretrained = 0,\n",
    "    tune_bias = 1,\n",
    "):\n",
    "    test_loss = {}\n",
    "    if pretrained:\n",
    "        pretrained_idx = df.pretrained == 1\n",
    "    else:\n",
    "        # since there are many results with pretrained = NaN\n",
    "        # they were run before I implemented the pretrained feature in my code\n",
    "        pretrained_idx = df.pretrained != 1\n",
    "        \n",
    "    if tune_bias == 0:\n",
    "        tune_bias_idx = df.tune_bias == 0\n",
    "    else:\n",
    "        # since there are many results with tune_bias = NaN\n",
    "        # they were run before I implemented the tune_bies feature in my code\n",
    "        tune_bias_idx = df.tune_bias != 0\n",
    "        \n",
    "        \n",
    "    for method in ['sgd', 'flt']:\n",
    "        run_idx = (\n",
    "            (df.activation == activation) & \n",
    "            (df.method == method) & \n",
    "            (df.use_bias == use_bias) & \n",
    "            (df.target_depth == target_depth) & \n",
    "            (df.frozen_depth == frozen_depth) & \n",
    "            (df.init_mode == init_mode) & \n",
    "            (df.width == width) &\n",
    "            (df.exp == exp) &\n",
    "            pretrained_idx &\n",
    "            tune_bias_idx\n",
    "        )\n",
    "\n",
    "        group_df = df[run_idx].reset_index(drop = True)\n",
    "        rank_set = np.unique(group_df['rank'])\n",
    "        group_df_rank, group_df_layers = {}, {}\n",
    "        test_loss[method] = {}\n",
    "        if method == 'sgd':\n",
    "            for rank in rank_set:\n",
    "                group_df_rank[rank] = group_df[group_df['rank'] == rank]\n",
    "                min_loss_index = group_df_rank[rank]['val_loss'].idxmin()\n",
    "                row_with_min_loss = group_df_rank[rank].loc[min_loss_index]\n",
    "                test_loss[method][rank*2*width*frozen_depth] = row_with_min_loss['test_loss']\n",
    "        elif method == 'flt':\n",
    "            for last_layers in range(1, frozen_depth):\n",
    "                group_df_layers[last_layers] = group_df[group_df['last_layers'] == last_layers]\n",
    "                min_loss_index = group_df_layers[last_layers]['val_loss'].idxmin()\n",
    "                row_with_min_loss = group_df_layers[last_layers].loc[min_loss_index]\n",
    "                test_loss[method][last_layers*width**2] = row_with_min_loss['test_loss']\n",
    "        else:\n",
    "            raise notImplementError(f\"We only support sgd and ours, not {method}!\")\n",
    "        test_loss[method] = pd.Series(test_loss[method])        \n",
    "        \n",
    "    return test_loss"
   ]
  },
  {
   "cell_type": "markdown",
   "id": "5fdf221d",
   "metadata": {},
   "source": [
    "## FNN Approximation"
   ]
  },
  {
   "cell_type": "code",
   "execution_count": 4,
   "id": "0f9734a9",
   "metadata": {},
   "outputs": [],
   "source": [
    "activation = 'relu'\n",
    "use_bias = 1\n",
    "width = 16\n",
    "exp = 'fnn'\n",
    "init_mode = 'default'\n",
    "target_depth = 1\n",
    "frozen_depth = 8\n",
    "\n",
    "fnn_results = {}\n",
    "\n",
    "for pretrained in [0,1]:\n",
    "    fnn_results[pretrained] = get_loss(\n",
    "        activation = activation,\n",
    "        use_bias = use_bias,\n",
    "        target_depth = target_depth,\n",
    "        frozen_depth = frozen_depth,\n",
    "        init_mode = init_mode,\n",
    "        width = width,\n",
    "        exp = exp,\n",
    "        pretrained = pretrained,\n",
    "    )\n",
    "    \n"
   ]
  },
  {
   "cell_type": "code",
   "execution_count": 9,
   "id": "e7d83308",
   "metadata": {},
   "outputs": [
    {
     "data": {
      "image/png": "[encoded data removed]",
      "text/plain": [
       "<Figure size 504x252 with 2 Axes>"
      ]
     },
     "metadata": {
      "needs_background": "light"
     },
     "output_type": "display_data"
    }
   ],
   "source": [
    "plt.rc('font', family='serif', serif='times new roman')\n",
    "plt.rc('text', usetex=True)\n",
    "plt.rc('xtick', labelsize=22)\n",
    "plt.rc('ytick', labelsize=22)\n",
    "mpl.rcParams['patch.linewidth']=0.5 #width of the boundary of legend\n",
    "\n",
    "\n",
    "sgd_marker, sgd_color, sgd_lt, sgd_ms = '1', '#118AB2', '--', 8\n",
    "our_marker, our_color, our_lt, our_ms = 'o', '#DD3497', '-', 5\n",
    "lw = 2.5\n",
    "\n",
    "fig, ax = plt.subplots(nrows=1, ncols=2, sharey = True)\n",
    "fig.subplots_adjust(left=0.16, bottom=.24, right=0.98, top=0.9, wspace=0.05, hspace = 0.3) #margin of the figure\n",
    "fig.set_size_inches(7, 3.5) #exact size of the figure\n",
    "\n",
    "for pretrained in [0,1]:\n",
    "    fnn_results[pretrained]['sgd'].plot(ax = ax[pretrained], color = sgd_color, label = 'LoRA', linestyle = sgd_lt, marker = sgd_marker, linewidth = lw, markersize = sgd_ms)\n",
    "    fnn_results[pretrained]['flt'].plot(ax = ax[pretrained], color = our_color, label = 'Tuning Final Layers', linestyle = our_lt, marker = our_marker, linewidth = lw, markersize = our_ms)\n",
    "    ax[pretrained].grid(True)\n",
    "\n",
    "ax[0].set_title('Random', size = 22, y = 1.01)\n",
    "ax[1].set_title('Pretrained', size = 22, y = 1.01)\n",
    "\n",
    "# ax[0].set_ylim(0,0.15)\n",
    "ax[1].legend(fontsize=16, bbox_to_anchor=(1.02,1.01))\n",
    "fig.supxlabel('\\# Tunable Parameters', fontsize = 26)\n",
    "fig.supylabel('MSE', fontsize = 26)\n",
    "    \n",
    "plt.savefig('../figures/flt_approx.pdf')\n",
    "# Show the plot\n",
    "plt.show()\n"
   ]
  },
  {
   "cell_type": "code",
   "execution_count": null,
   "id": "46fdece8",
   "metadata": {},
   "outputs": [],
   "source": []
  }
 ],
 "metadata": {
  "kernelspec": {
   "display_name": "Python 3 (ipykernel)",
   "language": "python",
   "name": "python3"
  },
  "language_info": {
   "codemirror_mode": {
    "name": "ipython",
    "version": 3
   },
   "file_extension": ".py",
   "mimetype": "text/x-python",
   "name": "python",
   "nbconvert_exporter": "python",
   "pygments_lexer": "ipython3",
   "version": "3.8.13"
  }
 },
 "nbformat": 4,
 "nbformat_minor": 5
}
